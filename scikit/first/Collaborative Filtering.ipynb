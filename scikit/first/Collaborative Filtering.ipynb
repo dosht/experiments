{
 "metadata": {
  "name": "Collaborative Filtering"
 },
 "nbformat": 3,
 "nbformat_minor": 0,
 "worksheets": [
  {
   "cells": [
    {
     "cell_type": "code",
     "collapsed": false,
     "input": [
      "%pylab inline"
     ],
     "language": "python",
     "metadata": {},
     "outputs": []
    },
    {
     "cell_type": "code",
     "collapsed": false,
     "input": [
      "# load: http://mldata.org/repository/data/viewslug/book-crossing-ratings-10/\n",
      "from sklearn.datasets import fetch_mldata\n",
      "book_crossing_ratings = fetch_mldata(\"book-crossing-ratings-10\")  # fetch from the Interne. It's gonna take some time at first call\n"
     ],
     "language": "python",
     "metadata": {},
     "outputs": []
    },
    {
     "cell_type": "code",
     "collapsed": false,
     "input": [
      "from pyspark import SparkContext\n",
      "sc = SparkContext(\"local\", \"colaporative filtering\")"
     ],
     "language": "python",
     "metadata": {},
     "outputs": []
    },
    {
     "cell_type": "code",
     "collapsed": false,
     "input": [
      "rd = sc.parallelize(book_crossing_ratings, 1)\n"
     ],
     "language": "python",
     "metadata": {},
     "outputs": [],
     "prompt_number": 11
    }
   ],
   "metadata": {}
  }
 ]
}
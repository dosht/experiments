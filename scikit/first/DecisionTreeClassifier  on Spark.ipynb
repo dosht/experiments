{
 "metadata": {
  "name": "DecisionTreeClassifier  on Spark"
 },
 "nbformat": 3,
 "nbformat_minor": 0,
 "worksheets": [
  {
   "cells": [
    {
     "cell_type": "code",
     "collapsed": false,
     "input": [
      "%pylab inline"
     ],
     "language": "python",
     "metadata": {},
     "outputs": [
      {
       "output_type": "stream",
       "stream": "stdout",
       "text": [
        "\n",
        "Welcome to pylab, a matplotlib-based Python environment [backend: module://IPython.zmq.pylab.backend_inline].\n",
        "For more information, type 'help(pylab)'.\n"
       ]
      }
     ],
     "prompt_number": 2
    },
    {
     "cell_type": "code",
     "collapsed": false,
     "input": [
      "from pyspark import SparkContext\n",
      "sc = SparkContext(\"local\", \"DTClassifier\")"
     ],
     "language": "python",
     "metadata": {},
     "outputs": [],
     "prompt_number": 3
    },
    {
     "cell_type": "code",
     "collapsed": false,
     "input": [
      "from sklearn.cross_validation import train_test_split, Bootstrap\n",
      "from sklearn.datasets import make_classification\n",
      "from sklearn.metrics import accuracy_score\n",
      "from sklearn.tree import DecisionTreeClassifier\n",
      "\n",
      "def run(sc):\n",
      "    def zero_matrix(n, m):\n",
      "        return np.zeros(n*m, dtype = int).reshape(n, m)\n",
      " \n",
      "    def vote_increment(y_est):\n",
      "        increment = zero_matrix(y_est.size, n_ys)\n",
      "        increment[np.arange(y_est.size), y_est] = 1\n",
      "        return increment # test point x class matrix with 1s marking the estimator prediction\n",
      " \n",
      "    X, y = make_classification()\n",
      "    X_train, X_test, y_train, y_test = train_test_split(X, y)\n",
      " \n",
      "    n_test = X_test.shape[0]\n",
      "    n_ys = np.unique(y_train).size\n",
      " \n",
      "    model = DecisionTreeClassifier()\n",
      "    # Partition the training data into random sub-samples with replacement.\n",
      "    samples = sc.parallelize(Bootstrap(y.size))\n",
      "    # Train a model for each sub-sample and apply it to the test data.\n",
      "    vote_tally = samples.map(lambda (index, _):\n",
      "        model.fit(X[index], y[index]).predict(X_test)\n",
      "    ).map(vote_increment).fold(zero_matrix(n_test, n_ys), np.add) # Take the learner majority vote.\n",
      "    y_estimate_vote = np.argmax(vote_tally, axis = 1)\n",
      "    return accuracy_score(y_test, y_estimate_vote)"
     ],
     "language": "python",
     "metadata": {},
     "outputs": [],
     "prompt_number": 4
    },
    {
     "cell_type": "code",
     "collapsed": false,
     "input": [
      "print run(sc)"
     ],
     "language": "python",
     "metadata": {},
     "outputs": [
      {
       "output_type": "stream",
       "stream": "stdout",
       "text": [
        "0.96\n"
       ]
      }
     ],
     "prompt_number": 6
    }
   ],
   "metadata": {}
  }
 ]
}
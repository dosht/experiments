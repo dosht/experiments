{
 "metadata": {
  "name": "Naive Bayes"
 },
 "nbformat": 3,
 "nbformat_minor": 0,
 "worksheets": [
  {
   "cells": [
    {
     "cell_type": "code",
     "collapsed": false,
     "input": [
      "%pylab inline"
     ],
     "language": "python",
     "metadata": {},
     "outputs": [
      {
       "output_type": "stream",
       "stream": "stdout",
       "text": [
        "\n",
        "Welcome to pylab, a matplotlib-based Python environment [backend: module://IPython.zmq.pylab.backend_inline].\n",
        "For more information, type 'help(pylab)'."
       ]
      }
     ],
     "prompt_number": 23
    },
    {
     "cell_type": "code",
     "collapsed": true,
     "input": [
      "def loadDataSet():\n",
      "    postingList=[['my', 'dog', 'has', 'flea', \\\n",
      "                  'problems', 'help', 'please'],\n",
      "                 ['maybe', 'not', 'take', 'him', \\\n",
      "                  'to', 'dog', 'park', 'stupid'],\n",
      "                 ['my', 'dalmation', 'is', 'so', 'cute', \\\n",
      "                  'I', 'love', 'him'],\n",
      "                 ['stop', 'posting', 'stupid', 'worthless', 'garbage'],\n",
      "                 ['mr', 'licks', 'ate', 'my', 'steak', 'how',\\\n",
      "                  'to', 'stop', 'him'],\n",
      "                 ['quit', 'buying', 'worthless', 'dog', 'food', 'stupid']]\n",
      "    classVec = [0,1,0,1,0,1]\n",
      "    #1 is abusive, 0 not\n",
      "    return postingList, classVec\n",
      "\n",
      "listOPosts, listClasses = loadDataSet()"
     ],
     "language": "python",
     "metadata": {},
     "outputs": [],
     "prompt_number": 25
    },
    {
     "cell_type": "code",
     "collapsed": true,
     "input": [
      "def createVocabList(dataSet):\n",
      "    vocabSet = set([])\n",
      "    for document in dataSet:\n",
      "        vocabSet = vocabSet | set(document)\n",
      "\n",
      "    return list(vocabSet)\n",
      "vocabList = createVocabList(listOPosts)\n",
      "myVocabList = vocabList  #TODO: remove it"
     ],
     "language": "python",
     "metadata": {},
     "outputs": [],
     "prompt_number": 53
    },
    {
     "cell_type": "code",
     "collapsed": true,
     "input": [
      "# set-of-words: word -> (0 or 1)\n",
      "def setOfWords2Vec(vocabList, inputSet):\n",
      "    returnVec = [0]*len(vocabList)\n",
      "    for word in inputSet:\n",
      "        if word in vocabList:\n",
      "            returnVec[vocabList.index(word)] = 1\n",
      "\n",
      "        else: print \"the word: %s is not in my Vocabulary!\" % word\n",
      "\n",
      "    return returnVec\n",
      "#setOfWords2Vec(vocabList, [\"to\", \"stop\", \"him\"])"
     ],
     "language": "python",
     "metadata": {},
     "outputs": [],
     "prompt_number": 29
    },
    {
     "cell_type": "code",
     "collapsed": true,
     "input": [
      "def trainNB0(trainMatrix, trainCategory):\n",
      "    numTrainDocs = len(trainMatrix)\n",
      "    numWords = len(trainMatrix[0])\n",
      "    pAbusive = sum(trainCategory) / float(numTrainDocs)\n",
      "    p0Num = zeros(numWords); p1Num = zeros(numWords)\n",
      "    p0Denom = 0.0; p1Denom = 0.0\n",
      "    for i in range(numTrainDocs):\n",
      "        if trainCategory[i] == 1:\n",
      "            p1Num += trainMatrix[i]\n",
      "            p1Denom += sum(trainMatrix[i])\n",
      "        else:\n",
      "            p0Num += trainMatrix[i]\n",
      "            p0Denom += sum(trainMatrix[i])\n",
      "        p1Vect = p1Num/p1Denom  #change to log()\n",
      "        p0Vect = p0Num/p0Denom  #change to log()\n",
      "\n",
      "    return p0Vect, p1Vect, pAbusive"
     ],
     "language": "python",
     "metadata": {},
     "outputs": [],
     "prompt_number": 30
    },
    {
     "cell_type": "code",
     "collapsed": false,
     "input": [
      "trainMat=[]\n",
      "for postinDoc in listOPosts:\n",
      "    trainMat.append(setOfWords2Vec(vocabList, postinDoc))\n",
      "\n",
      "p0V, p1V, pAb = trainNB0(trainMat,listClasses)\n",
      "print p0V\n",
      "print p1V\n",
      "print pAb"
     ],
     "language": "python",
     "metadata": {},
     "outputs": [
      {
       "output_type": "stream",
       "stream": "stdout",
       "text": [
        "[ 0.04166667  0.04166667  0.04166667  0.          0.          0.04166667\n",
        "  0.04166667  0.04166667  0.          0.04166667  0.04166667  0.04166667\n",
        "  0.04166667  0.          0.          0.08333333  0.          0.\n",
        "  0.04166667  0.          0.04166667  0.04166667  0.          0.04166667\n",
        "  0.04166667  0.04166667  0.          0.04166667  0.          0.04166667\n",
        "  0.04166667  0.125     ]\n",
        "[ 0.          0.          0.          0.05263158  0.05263158  0.          0.\n",
        "  0.          0.05263158  0.05263158  0.          0.          0.\n",
        "  0.05263158  0.05263158  0.05263158  0.05263158  0.05263158  0.\n",
        "  0.10526316  0.          0.05263158  0.05263158  0.          0.10526316\n",
        "  0.          0.15789474  0.          0.05263158  0.          0.          0.        ]\n",
        "0.5"
       ]
      }
     ],
     "prompt_number": 35
    },
    {
     "cell_type": "code",
     "collapsed": true,
     "input": [
      "def classifyNB(vec2Classify, p0Vec, p1Vec, pClass1):\n",
      "    p1 = sum(vec2Classify * p1Vec) + log(pClass1)\n",
      "    p0 = sum(vec2Classify * p0Vec) + log(1.0 - pClass1)\n",
      "    if p1 > p0:\n",
      "        return 1\n",
      "    else:\n",
      "        return 0"
     ],
     "language": "python",
     "metadata": {},
     "outputs": [],
     "prompt_number": 49
    },
    {
     "cell_type": "code",
     "collapsed": false,
     "input": [
      "# Test 2 samples\n",
      "testEntry = ['love', 'my', 'dalmation']\n",
      "thisDoc = np.array(setOfWords2Vec(myVocabList, testEntry))\n",
      "print testEntry,'classified as: ',classifyNB(thisDoc,p0V,p1V,pAb)\n",
      "\n",
      "testEntry = ['stupid', 'garbage']\n",
      "thisDoc = array(setOfWords2Vec(myVocabList, testEntry))\n",
      "print testEntry,'classified as: ',classifyNB(thisDoc,p0V,p1V,pAb)"
     ],
     "language": "python",
     "metadata": {},
     "outputs": [
      {
       "output_type": "stream",
       "stream": "stdout",
       "text": [
        "['love', 'my', 'dalmation'] classified as:  0\n",
        "['stupid', 'garbage'] classified as:  1"
       ]
      }
     ],
     "prompt_number": 54
    },
    {
     "cell_type": "code",
     "collapsed": true,
     "input": [
      "# bag-of-words: word -> count\n",
      "def bagOfWords2VecMN(vocabList, inputSet):\n",
      "    returnVec = [0]*len(vocabList)\n",
      "    for word in inputSet:\n",
      "        if word in vocabList:\n",
      "            returnVec[vocabList.index(word)] += 1 \n",
      "\n",
      "    return returnVec"
     ],
     "language": "python",
     "metadata": {},
     "outputs": [],
     "prompt_number": 57
    },
    {
     "cell_type": "code",
     "collapsed": true,
     "input": [
      "# Prepare\n",
      "import re\n",
      "regEx = re.compile('\\\\W*')\n",
      "sentence = 'This book is the best book on Python or M.L. I have ever laid eyes upon.'\n",
      "mySent=sentence  #TODO: remove this\n",
      "listOfTokens = [tok.lower() for tok in regEx.split(mySent) if len(tok) > 2]"
     ],
     "language": "python",
     "metadata": {},
     "outputs": [],
     "prompt_number": 65
    }
   ],
   "metadata": {}
  }
 ]
}
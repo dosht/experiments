{
 "metadata": {
  "name": "Naive Bayes"
 }, 
 "nbformat": 2, 
 "worksheets": [
  {
   "cells": [
    {
     "cell_type": "code", 
     "collapsed": false, 
     "input": [
      "%pylab inline"
     ], 
     "language": "python", 
     "outputs": [
      {
       "output_type": "stream", 
       "stream": "stdout", 
       "text": [
        "", 
        "Welcome to pylab, a matplotlib-based Python environment [backend: module://IPython.zmq.pylab.backend_inline].", 
        "For more information, type 'help(pylab)'."
       ]
      }
     ], 
     "prompt_number": 23
    }, 
    {
     "cell_type": "code", 
     "collapsed": true, 
     "input": [
      "def loadDataSet():", 
      "    postingList=[['my', 'dog', 'has', 'flea', \\", 
      "                  'problems', 'help', 'please'],", 
      "                 ['maybe', 'not', 'take', 'him', \\", 
      "                  'to', 'dog', 'park', 'stupid'],", 
      "                 ['my', 'dalmation', 'is', 'so', 'cute', \\", 
      "                  'I', 'love', 'him'],", 
      "                 ['stop', 'posting', 'stupid', 'worthless', 'garbage'],", 
      "                 ['mr', 'licks', 'ate', 'my', 'steak', 'how',\\", 
      "                  'to', 'stop', 'him'],", 
      "                 ['quit', 'buying', 'worthless', 'dog', 'food', 'stupid']]", 
      "    classVec = [0,1,0,1,0,1]", 
      "    #1 is abusive, 0 not", 
      "    return postingList, classVec", 
      "", 
      "listOPosts, listClasses = loadDataSet()"
     ], 
     "language": "python", 
     "outputs": [], 
     "prompt_number": 25
    }, 
    {
     "cell_type": "code", 
     "collapsed": true, 
     "input": [
      "def createVocabList(dataSet):", 
      "    vocabSet = set([])", 
      "    for document in dataSet:", 
      "        vocabSet = vocabSet | set(document)", 
      "", 
      "    return list(vocabSet)", 
      "vocabList = createVocabList(listOPosts)", 
      "myVocabList = vocabList  #TODO: remove it"
     ], 
     "language": "python", 
     "outputs": [], 
     "prompt_number": 53
    }, 
    {
     "cell_type": "code", 
     "collapsed": true, 
     "input": [
      "# set-of-words: word -> (0 or 1)", 
      "def setOfWords2Vec(vocabList, inputSet):", 
      "    returnVec = [0]*len(vocabList)", 
      "    for word in inputSet:", 
      "        if word in vocabList:", 
      "            returnVec[vocabList.index(word)] = 1", 
      "", 
      "        else: print \"the word: %s is not in my Vocabulary!\" % word", 
      "", 
      "    return returnVec", 
      "#setOfWords2Vec(vocabList, [\"to\", \"stop\", \"him\"])"
     ], 
     "language": "python", 
     "outputs": [], 
     "prompt_number": 29
    }, 
    {
     "cell_type": "code", 
     "collapsed": true, 
     "input": [
      "def trainNB0(trainMatrix, trainCategory):", 
      "    numTrainDocs = len(trainMatrix)", 
      "    numWords = len(trainMatrix[0])", 
      "    pAbusive = sum(trainCategory) / float(numTrainDocs)", 
      "    p0Num = zeros(numWords); p1Num = zeros(numWords)", 
      "    p0Denom = 0.0; p1Denom = 0.0", 
      "    for i in range(numTrainDocs):", 
      "        if trainCategory[i] == 1:", 
      "            p1Num += trainMatrix[i]", 
      "            p1Denom += sum(trainMatrix[i])", 
      "        else:", 
      "            p0Num += trainMatrix[i]", 
      "            p0Denom += sum(trainMatrix[i])", 
      "        p1Vect = p1Num/p1Denom  #change to log()", 
      "        p0Vect = p0Num/p0Denom  #change to log()", 
      "", 
      "    return p0Vect, p1Vect, pAbusive"
     ], 
     "language": "python", 
     "outputs": [], 
     "prompt_number": 30
    }, 
    {
     "cell_type": "code", 
     "collapsed": false, 
     "input": [
      "trainMat=[]", 
      "for postinDoc in listOPosts:", 
      "    trainMat.append(setOfWords2Vec(vocabList, postinDoc))", 
      "", 
      "p0V, p1V, pAb = trainNB0(trainMat,listClasses)", 
      "print p0V", 
      "print p1V", 
      "print pAb"
     ], 
     "language": "python", 
     "outputs": [
      {
       "output_type": "stream", 
       "stream": "stdout", 
       "text": [
        "[ 0.04166667  0.04166667  0.04166667  0.          0.          0.04166667", 
        "  0.04166667  0.04166667  0.          0.04166667  0.04166667  0.04166667", 
        "  0.04166667  0.          0.          0.08333333  0.          0.", 
        "  0.04166667  0.          0.04166667  0.04166667  0.          0.04166667", 
        "  0.04166667  0.04166667  0.          0.04166667  0.          0.04166667", 
        "  0.04166667  0.125     ]", 
        "[ 0.          0.          0.          0.05263158  0.05263158  0.          0.", 
        "  0.          0.05263158  0.05263158  0.          0.          0.", 
        "  0.05263158  0.05263158  0.05263158  0.05263158  0.05263158  0.", 
        "  0.10526316  0.          0.05263158  0.05263158  0.          0.10526316", 
        "  0.          0.15789474  0.          0.05263158  0.          0.          0.        ]", 
        "0.5"
       ]
      }
     ], 
     "prompt_number": 35
    }, 
    {
     "cell_type": "code", 
     "collapsed": true, 
     "input": [
      "def classifyNB(vec2Classify, p0Vec, p1Vec, pClass1):", 
      "    p1 = sum(vec2Classify * p1Vec) + log(pClass1)", 
      "    p0 = sum(vec2Classify * p0Vec) + log(1.0 - pClass1)", 
      "    if p1 > p0:", 
      "        return 1", 
      "    else:", 
      "        return 0"
     ], 
     "language": "python", 
     "outputs": [], 
     "prompt_number": 49
    }, 
    {
     "cell_type": "code", 
     "collapsed": false, 
     "input": [
      "# Test 2 samples", 
      "testEntry = ['love', 'my', 'dalmation']", 
      "thisDoc = np.array(setOfWords2Vec(myVocabList, testEntry))", 
      "print testEntry,'classified as: ',classifyNB(thisDoc,p0V,p1V,pAb)", 
      "", 
      "testEntry = ['stupid', 'garbage']", 
      "thisDoc = array(setOfWords2Vec(myVocabList, testEntry))", 
      "print testEntry,'classified as: ',classifyNB(thisDoc,p0V,p1V,pAb)"
     ], 
     "language": "python", 
     "outputs": [
      {
       "output_type": "stream", 
       "stream": "stdout", 
       "text": [
        "['love', 'my', 'dalmation'] classified as:  0", 
        "['stupid', 'garbage'] classified as:  1"
       ]
      }
     ], 
     "prompt_number": 54
    }, 
    {
     "cell_type": "code", 
     "collapsed": true, 
     "input": [
      "# bag-of-words: word -> count", 
      "def bagOfWords2VecMN(vocabList, inputSet):", 
      "    returnVec = [0]*len(vocabList)", 
      "    for word in inputSet:", 
      "        if word in vocabList:", 
      "            returnVec[vocabList.index(word)] += 1 ", 
      "", 
      "    return returnVec"
     ], 
     "language": "python", 
     "outputs": [], 
     "prompt_number": 57
    }, 
    {
     "cell_type": "code", 
     "collapsed": true, 
     "input": [
      "# Prepare", 
      "import re", 
      "regEx = re.compile('\\\\W*')", 
      "sentence = 'This book is the best book on Python or M.L. I have ever laid eyes upon.'", 
      "mySent=sentence  #TODO: remove this", 
      "listOfTokens = [tok.lower() for tok in regEx.split(mySent) if len(tok) > 2]"
     ], 
     "language": "python", 
     "outputs": [], 
     "prompt_number": 65
    }
   ]
  }
 ]
}
{
 "metadata": {
  "name": "",
  "signature": "sha256:05df6f4f343ef47323673b74daaae4aca880b81e6136539695f0f8c82fe58983"
 },
 "nbformat": 3,
 "nbformat_minor": 0,
 "worksheets": [
  {
   "cells": [
    {
     "cell_type": "code",
     "collapsed": false,
     "input": [
      "%pylab inline"
     ],
     "language": "python",
     "metadata": {},
     "outputs": [
      {
       "output_type": "stream",
       "stream": "stdout",
       "text": [
        "Populating the interactive namespace from numpy and matplotlib\n"
       ]
      }
     ],
     "prompt_number": 1
    },
    {
     "cell_type": "markdown",
     "metadata": {},
     "source": [
      "## Load"
     ]
    },
    {
     "cell_type": "code",
     "collapsed": false,
     "input": [
      "from sklearn.datasets import fetch_mldata\n",
      "banana = fetch_mldata(\"banana-ida\")\n",
      "X = banana.data\n",
      "y = banana.target"
     ],
     "language": "python",
     "metadata": {},
     "outputs": [],
     "prompt_number": 13
    },
    {
     "cell_type": "markdown",
     "metadata": {},
     "source": [
      "## Plot"
     ]
    },
    {
     "cell_type": "code",
     "collapsed": false,
     "input": [
      "# Plot\n",
      "from itertools import cycle\n",
      "import pylab as pl\n",
      "def plot_2d(X, y, labels):\n",
      "    colors = cycle(\"rc\")\n",
      "    pl.figure()\n",
      "    labels_ids = [-1, 1]\n",
      "    for i, c, l in zip(labels_ids, colors, labels):\n",
      "        pl.scatter(X[y == i, 0], X[y == i, 1], c=c, marker='+', label=l)\n",
      "    \n",
      "    pl.legend()\n",
      "\n",
      "plot_2d(X, y, [\"-1\", \"1\"])\n",
      "savefig(\"panana.png\")"
     ],
     "language": "python",
     "metadata": {},
     "outputs": [
      {
       "metadata": {},
       "output_type": "display_data",
       "png": "[encoded data removed]",
       "text": [
        "<matplotlib.figure.Figure at 0x113ecb190>"
       ]
      }
     ],
     "prompt_number": 8
    },
    {
     "cell_type": "markdown",
     "metadata": {},
     "source": [
      "## Book implementation"
     ]
    },
    {
     "cell_type": "code",
     "collapsed": false,
     "input": [
      "import operator\n",
      "\n",
      "class KNN(object):\n",
      "    def __init__(self, X, y, k=3):\n",
      "        self.X = X\n",
      "        self.y = y\n",
      "        self.k = k\n",
      "        self.size = X.shape[0]\n",
      "    \n",
      "    def predict(self, x):\n",
      "        diff_mat = tile(x, (self.size, 1)) - self.X\n",
      "        sq_diff_mat = diff_mat**2\n",
      "        sq_distances = sq_diff_mat.sum(axis=1)\n",
      "        distances = sq_distances**0.5\n",
      "        sorted_dist_indicies = distances.argsort()\n",
      "        class_count={}\n",
      "        for i in range(self.k):\n",
      "            vote_i_label = self.y[sorted_dist_indicies[i]]\n",
      "            class_count[vote_i_label] = class_count.get(vote_i_label,0) + 1\n",
      "        sorted_class_count = sorted(class_count.iteritems(), key=operator.itemgetter(1), reverse=True)\n",
      "        return sorted_class_count[0][0]\n",
      "\n",
      "    def score(self):\n",
      "        count = 0\n",
      "        for i in range(len(y)):\n",
      "            if KNN(X, y, 3).predict(X[i]) == y[i]:\n",
      "                count += 1\n",
      "\n",
      "        return float(count) / len(y)\n"
     ],
     "language": "python",
     "metadata": {},
     "outputs": [],
     "prompt_number": 47
    },
    {
     "cell_type": "code",
     "collapsed": false,
     "input": [
      "knn= KNN(X, y, 3)\n",
      "knn.predict([0, 0])"
     ],
     "language": "python",
     "metadata": {},
     "outputs": [
      {
       "metadata": {},
       "output_type": "pyout",
       "prompt_number": 48,
       "text": [
        "1.0"
       ]
      }
     ],
     "prompt_number": 48
    },
    {
     "cell_type": "code",
     "collapsed": false,
     "input": [
      "knn.score()"
     ],
     "language": "python",
     "metadata": {},
     "outputs": [
      {
       "metadata": {},
       "output_type": "pyout",
       "prompt_number": 49,
       "text": [
        "0.9349056603773584"
       ]
      }
     ],
     "prompt_number": 49
    }
   ],
   "metadata": {}
  }
 ]
}
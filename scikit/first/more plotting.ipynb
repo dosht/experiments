{
 "metadata": {
  "name": "more plotting"
 }, 
 "nbformat": 2, 
 "worksheets": [
  {
   "cells": [
    {
     "cell_type": "code", 
     "collapsed": false, 
     "input": [
      "%pylab inline", 
      "# free plotting trials"
     ], 
     "language": "python", 
     "outputs": [
      {
       "output_type": "stream", 
       "stream": "stdout", 
       "text": [
        "", 
        "Welcome to pylab, a matplotlib-based Python environment [backend: module://IPython.zmq.pylab.backend_inline].", 
        "For more information, type 'help(pylab)'."
       ]
      }
     ], 
     "prompt_number": 2
    }, 
    {
     "cell_type": "code", 
     "collapsed": false, 
     "input": [
      "# Load and plot from the knn example from book Machine-learning-in-action", 
      "from knn import *", 
      "group, labels = create_data_set()", 
      "diffMat = np.tile([0,0], (len(group), 1)) - group", 
      "distances = (diffMat**2)**0.5", 
      "print classify0([0,0], group, labels, 2)", 
      "print classify0([0.9,1.0], group, labels, 2)", 
      "axis([-.5, 1.5, -.5, 1.5])", 
      "for i in group:", 
      "    plot(i[0], i[1], 'o')"
     ], 
     "language": "python", 
     "outputs": [
      {
       "output_type": "stream", 
       "stream": "stdout", 
       "text": [
        "B", 
        "A"
       ]
      }, 
      {
       "output_type": "display_data", 
       "png": "[encoded data removed]"
      }
     ], 
     "prompt_number": 4
    }, 
    {
     "cell_type": "code", 
     "collapsed": false, 
     "input": [
      "# Quadratic equation", 
      "xs = np.linspace(-10, 10, 21)", 
      "ys = xs ** 2", 
      "plot(xs, ys, 'ro')", 
      "axis([-12, 12, -5, 120])", 
      "plot([i for i in range(-100, 100)], [0 for i in range(-100, 100)], 'b')", 
      "plot([0 for i in range(-100, 100)], [i for i in range(-100, 100)], 'b')"
     ], 
     "language": "python", 
     "outputs": [
      {
       "output_type": "pyout", 
       "prompt_number": 5, 
       "text": [
        "[<matplotlib.lines.Line2D at 0x2a60f10>]"
       ]
      }, 
      {
       "output_type": "display_data", 
       "png": "[encoded data removed]"
      }
     ], 
     "prompt_number": 5
    }
   ]
  }
 ]
}
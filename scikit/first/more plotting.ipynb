{
 "metadata": {
  "name": "",
  "signature": "sha256:55d147bced951f0e58e657ce70c92cb953e9e1a2c7d36e730781eca943f63c39"
 },
 "nbformat": 3,
 "nbformat_minor": 0,
 "worksheets": [
  {
   "cells": [
    {
     "cell_type": "code",
     "collapsed": false,
     "input": [
      "%pylab inline\n",
      "# free plotting trials"
     ],
     "language": "python",
     "metadata": {},
     "outputs": [
      {
       "output_type": "stream",
       "stream": "stdout",
       "text": [
        "\n",
        "Welcome to pylab, a matplotlib-based Python environment [backend: module://IPython.zmq.pylab.backend_inline].\n",
        "For more information, type 'help(pylab)'."
       ]
      }
     ],
     "prompt_number": 2
    },
    {
     "cell_type": "code",
     "collapsed": false,
     "input": [
      "# Load and plot from the knn example from book Machine-learning-in-action\n",
      "from knn import *\n",
      "group, labels = create_data_set()\n",
      "diffMat = np.tile([0,0], (len(group), 1)) - group\n",
      "distances = (diffMat**2)**0.5\n",
      "print classify0([0,0], group, labels, 2)\n",
      "print classify0([0.9,1.0], group, labels, 2)\n",
      "axis([-.5, 1.5, -.5, 1.5])\n",
      "for i in group:\n",
      "    plot(i[0], i[1], 'o')"
     ],
     "language": "python",
     "metadata": {},
     "outputs": [
      {
       "output_type": "stream",
       "stream": "stdout",
       "text": [
        "B\n",
        "A\n"
       ]
      },
      {
       "metadata": {},
       "output_type": "display_data",
       "png": "[encoded data removed]",
       "text": [
        "<matplotlib.figure.Figure at 0x10ad8d150>"
       ]
      }
     ],
     "prompt_number": 1
    },
    {
     "cell_type": "code",
     "collapsed": false,
     "input": [
      "# Quadratic equation\n",
      "xs = np.linspace(-10, 10, 21)\n",
      "ys = xs ** 2\n",
      "plot(xs, ys, 'ro')\n",
      "axis([-12, 12, -5, 120])\n",
      "plot([i for i in range(-100, 100)], [0 for i in range(-100, 100)], 'b')\n",
      "plot([0 for i in range(-100, 100)], [i for i in range(-100, 100)], 'b')"
     ],
     "language": "python",
     "metadata": {},
     "outputs": [
      {
       "metadata": {},
       "output_type": "pyout",
       "prompt_number": 2,
       "text": [
        "[<matplotlib.lines.Line2D at 0x10ad96990>]"
       ]
      },
      {
       "metadata": {},
       "output_type": "display_data",
       "png": "[encoded data removed]",
       "text": [
        "<matplotlib.figure.Figure at 0x10ad96650>"
       ]
      }
     ],
     "prompt_number": 2
    },
    {
     "cell_type": "code",
     "collapsed": false,
     "input": [],
     "language": "python",
     "metadata": {},
     "outputs": []
    }
   ],
   "metadata": {}
  }
 ]
}
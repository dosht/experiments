{
 "metadata": {
  "name": "Naive Bayes - yahoo"
 },
 "nbformat": 3,
 "nbformat_minor": 0,
 "worksheets": [
  {
   "cells": [
    {
     "cell_type": "code",
     "collapsed": false,
     "input": [
      "%pylab inline"
     ],
     "language": "python",
     "metadata": {},
     "outputs": [
      {
       "output_type": "stream",
       "stream": "stdout",
       "text": [
        "\n",
        "Welcome to pylab, a matplotlib-based Python environment [backend: module://IPython.zmq.pylab.backend_inline].\n",
        "For more information, type 'help(pylab)'.\n"
       ]
      }
     ],
     "prompt_number": 2
    },
    {
     "cell_type": "code",
     "collapsed": true,
     "input": [
      "# load\n",
      "from sklearn.datasets import fetch_mldata\n",
      "yahoo_directory = fetch_mldata(\"yahoo-web-directory-topics\")  # fetch from the Interne. It's gonna take some time at first call"
     ],
     "language": "python",
     "metadata": {},
     "outputs": [],
     "prompt_number": 3
    },
    {
     "cell_type": "code",
     "collapsed": false,
     "input": [
      "from sklearn.naive_bayes import GaussianNB\n",
      "X = yahoo_directory.data.tolil().toarray()\n",
      "y = yahoo_directory.target\n",
      "topics = [\"Arts\", \"Business\", \"Economy\", \"Education\", \"Entertainment\"]\n",
      "X.shape\n",
      "yahoo_directory"
     ],
     "language": "python",
     "metadata": {},
     "outputs": [
      {
       "output_type": "pyout",
       "prompt_number": 4,
       "text": [
        "{'COL_NAMES': ['label', 'data'],\n",
        " 'DESCR': 'mldata.org dataset: yahoo-web-directory-topics',\n",
        " 'data': <1106x10629 sparse matrix of type '<type 'numpy.float64'>'\n",
        "\twith 309092 stored elements in Compressed Sparse Row format>,\n",
        " 'target': array([4, 2, 1, ..., 3, 4, 2])}"
       ]
      }
     ],
     "prompt_number": 4
    },
    {
     "cell_type": "code",
     "collapsed": false,
     "input": [
      "# Learn\n",
      "from sklearn.naive_bayes import MultinomialNB\n",
      "clf = MultinomialNB()\n",
      "#clf.fit(X, y)\n",
      "print y.shape\n",
      "print X.shape\n",
      "clf.fit(X, y)\n",
      "clf.predict(X[1, :])"
     ],
     "language": "python",
     "metadata": {},
     "outputs": [
      {
       "output_type": "stream",
       "stream": "stdout",
       "text": [
        "(1106,)\n",
        "(1106, 10629)\n"
       ]
      },
      {
       "output_type": "pyout",
       "prompt_number": 5,
       "text": [
        "array([2])"
       ]
      }
     ],
     "prompt_number": 5
    },
    {
     "cell_type": "code",
     "collapsed": false,
     "input": [
      "# validation\n",
      "split = y.shape[0] * 7 / 10\n",
      "X_train = X[:split, :]\n",
      "y_train = y[:split]\n",
      "X_validation = X[split:, :]\n",
      "y_validation = y[split:]\n",
      "\n",
      "print X_train.shape\n",
      "print y_train.shape"
     ],
     "language": "python",
     "metadata": {},
     "outputs": [
      {
       "output_type": "stream",
       "stream": "stdout",
       "text": [
        "(774, 10629)\n",
        "(774,)\n"
       ]
      }
     ],
     "prompt_number": 6
    },
    {
     "cell_type": "code",
     "collapsed": false,
     "input": [
      "from sklearn.naive_bayes import GaussianNB\n",
      "clf2 = GaussianNB()\n",
      "clf2.fit(X_train, y_train)\n",
      "predictions2 = clf2.predict(X_validation)\n",
      "accuracy2 = float((predictions2 == y_validation).sum()) / len(y_validation)\n",
      "print accuracy2"
     ],
     "language": "python",
     "metadata": {},
     "outputs": [
      {
       "output_type": "stream",
       "stream": "stdout",
       "text": [
        "0.527108433735\n"
       ]
      }
     ],
     "prompt_number": 7
    },
    {
     "cell_type": "code",
     "collapsed": false,
     "input": [
      "from sklearn.naive_bayes import MultinomialNB\n",
      "clf2 = MultinomialNB()\n",
      "clf2.fit(X_train, y_train)\n",
      "predictions2 = clf2.predict(X_validation)\n",
      "accuracy2 = float((predictions2 == y_validation).sum()) / len(y_validation)\n",
      "print clf2.score(X_train, y_train)\n",
      "print accuracy2\n",
      "print clf2.feature_log_prob_.shape\n",
      "print clf2.feature_count_.shape\n",
      "print clf2.class_count_.shape\n",
      "print clf2.class_log_prior_.shape\n",
      "print X.shape\n",
      "print y.shape"
     ],
     "language": "python",
     "metadata": {},
     "outputs": [
      {
       "output_type": "stream",
       "stream": "stdout",
       "text": [
        "0.865633074935\n",
        "0.686746987952\n",
        "(4, 10629)\n",
        "(4, 10629)\n",
        "(4,)\n",
        "(4,)\n",
        "(1106, 10629)\n",
        "(1106,)\n"
       ]
      }
     ],
     "prompt_number": 14
    },
    {
     "cell_type": "code",
     "collapsed": false,
     "input": [
      "from sklearn.naive_bayes import BernoulliNB\n",
      "clf2 = BernoulliNB()\n",
      "clf2.fit(X_train, y_train)\n",
      "predictions2 = clf2.predict(X_validation)\n",
      "accuracy2 = float((predictions2 == y_validation).sum()) / len(y_validation)\n",
      "print accuracy2"
     ],
     "language": "python",
     "metadata": {},
     "outputs": [
      {
       "output_type": "stream",
       "stream": "stdout",
       "text": [
        "0.596385542169\n"
       ]
      }
     ],
     "prompt_number": 9
    },
    {
     "cell_type": "code",
     "collapsed": false,
     "input": [
      "from sklearn.linear_model.stochastic_gradient import SGDClassifier\n",
      "clf3 = SGDClassifier()\n",
      "clf3.fit(X_train, y_train)\n",
      "clf3.score(X_validation, y_validation)"
     ],
     "language": "python",
     "metadata": {},
     "outputs": [
      {
       "output_type": "pyout",
       "prompt_number": 13,
       "text": [
        "0.62048192771084343"
       ]
      }
     ],
     "prompt_number": 13
    }
   ],
   "metadata": {}
  }
 ]
}
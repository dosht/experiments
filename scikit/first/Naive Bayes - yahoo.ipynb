{
 "metadata": {
  "name": "Naive Bayes - yahoo"
 }, 
 "nbformat": 2, 
 "worksheets": [
  {
   "cells": [
    {
     "cell_type": "code", 
     "collapsed": false, 
     "input": [
      "%pylab inline"
     ], 
     "language": "python", 
     "outputs": [
      {
       "output_type": "stream", 
       "stream": "stdout", 
       "text": [
        "", 
        "Welcome to pylab, a matplotlib-based Python environment [backend: module://IPython.zmq.pylab.backend_inline].", 
        "For more information, type 'help(pylab)'."
       ]
      }
     ], 
     "prompt_number": 2
    }, 
    {
     "cell_type": "code", 
     "collapsed": true, 
     "input": [
      "# load", 
      "from sklearn.datasets import fetch_mldata", 
      "yahoo_directory = fetch_mldata(\"yahoo-web-directory-topics\")  # fetch from the Interne. It's gonna take some time at first call"
     ], 
     "language": "python", 
     "outputs": [], 
     "prompt_number": 6
    }, 
    {
     "cell_type": "code", 
     "collapsed": false, 
     "input": [
      "from sklearn.naive_bayes import GaussianNB", 
      "X = yahoo_directory.data.tolil().toarray()", 
      "y = yahoo_directory.target", 
      "topics = [\"Arts\", \"Business\", \"Economy\", \"Education\", \"Entertainment\"]", 
      "X.shape", 
      "yahoo_directory"
     ], 
     "language": "python", 
     "outputs": [
      {
       "output_type": "pyout", 
       "prompt_number": 8, 
       "text": [
        "{'COL_NAMES': ['label', 'data'],", 
        " 'DESCR': 'mldata.org dataset: yahoo-web-directory-topics',", 
        " 'data': <1106x10629 sparse matrix of type '<type 'numpy.float64'>'", 
        "\twith 309092 stored elements in Compressed Sparse Row format>,", 
        " 'target': array([4, 2, 1, ..., 3, 4, 2])}"
       ]
      }
     ], 
     "prompt_number": 8
    }, 
    {
     "cell_type": "code", 
     "collapsed": false, 
     "input": [
      "# Learn", 
      "from sklearn.naive_bayes import MultinomialNB", 
      "clf = MultinomialNB()", 
      "#clf.fit(X, y)", 
      "print y.shape", 
      "print X.shape", 
      "clf.fit(X, y)", 
      "clf.predict(X[1, :])"
     ], 
     "language": "python", 
     "outputs": [
      {
       "output_type": "stream", 
       "stream": "stdout", 
       "text": [
        "(1106,)", 
        "(1106, 10629)"
       ]
      }, 
      {
       "output_type": "pyout", 
       "prompt_number": 9, 
       "text": [
        "array([2])"
       ]
      }
     ], 
     "prompt_number": 9
    }, 
    {
     "cell_type": "code", 
     "collapsed": false, 
     "input": [
      "# validation", 
      "split = y.shape[0] * 7 / 10", 
      "X_train = X[:split, :]", 
      "y_train = y[:split]", 
      "X_validation = X[split:, :]", 
      "y_validation = y[split:]", 
      "", 
      "print X_train.shape", 
      "print y_train.shape"
     ], 
     "language": "python", 
     "outputs": [
      {
       "output_type": "stream", 
       "stream": "stdout", 
       "text": [
        "(774, 10629)", 
        "(774,)"
       ]
      }
     ], 
     "prompt_number": 30
    }, 
    {
     "cell_type": "code", 
     "collapsed": false, 
     "input": [
      "from sklearn.naive_bayes import GaussianNB", 
      "clf2 = GaussianNB()", 
      "clf2.fit(X_train, y_train)", 
      "predictions2 = clf2.predict(X_validation)", 
      "accuracy2 = float((predictions2 == y_validation).sum()) / len(y_validation)", 
      "print accuracy2"
     ], 
     "language": "python", 
     "outputs": [
      {
       "output_type": "stream", 
       "stream": "stdout", 
       "text": [
        "0.222891566265"
       ]
      }
     ], 
     "prompt_number": 31
    }, 
    {
     "cell_type": "code", 
     "collapsed": false, 
     "input": [
      "from sklearn.naive_bayes import MultinomialNB", 
      "clf2 = MultinomialNB()", 
      "clf2.fit(X_train, y_train)", 
      "predictions2 = clf2.predict(X_validation)", 
      "accuracy2 = float((predictions2 == y_validation).sum()) / len(y_validation)", 
      "print accuracy2"
     ], 
     "language": "python", 
     "outputs": [
      {
       "output_type": "stream", 
       "stream": "stdout", 
       "text": [
        "0.686746987952"
       ]
      }
     ], 
     "prompt_number": 32
    }, 
    {
     "cell_type": "code", 
     "collapsed": false, 
     "input": [
      "from sklearn.naive_bayes import BernoulliNB", 
      "clf2 = BernoulliNB()", 
      "clf2.fit(X_train, y_train)", 
      "predictions2 = clf2.predict(X_validation)", 
      "accuracy2 = float((predictions2 == y_validation).sum()) / len(y_validation)", 
      "print accuracy2"
     ], 
     "language": "python", 
     "outputs": [
      {
       "output_type": "stream", 
       "stream": "stdout", 
       "text": [
        "0.728915662651"
       ]
      }
     ], 
     "prompt_number": 33
    }
   ]
  }
 ]
}
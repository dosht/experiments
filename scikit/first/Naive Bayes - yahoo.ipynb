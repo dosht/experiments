{
 "metadata": {
  "name": "Naive Bayes - yahoo"
 },
 "nbformat": 3,
 "nbformat_minor": 0,
 "worksheets": [
  {
   "cells": [
    {
     "cell_type": "code",
     "collapsed": false,
     "input": [
      "%pylab inline"
     ],
     "language": "python",
     "metadata": {},
     "outputs": [
      {
       "output_type": "stream",
       "stream": "stdout",
       "text": [
        "\n",
        "Welcome to pylab, a matplotlib-based Python environment [backend: module://IPython.zmq.pylab.backend_inline].\n",
        "For more information, type 'help(pylab)'."
       ]
      }
     ],
     "prompt_number": 2
    },
    {
     "cell_type": "code",
     "collapsed": true,
     "input": [
      "# load\n",
      "from sklearn.datasets import fetch_mldata\n",
      "yahoo_directory = fetch_mldata(\"yahoo-web-directory-topics\")  # fetch from the Interne. It's gonna take some time at first call"
     ],
     "language": "python",
     "metadata": {},
     "outputs": [],
     "prompt_number": 6
    },
    {
     "cell_type": "code",
     "collapsed": false,
     "input": [
      "from sklearn.naive_bayes import GaussianNB\n",
      "X = yahoo_directory.data.tolil().toarray()\n",
      "y = yahoo_directory.target\n",
      "topics = [\"Arts\", \"Business\", \"Economy\", \"Education\", \"Entertainment\"]\n",
      "X.shape\n",
      "yahoo_directory"
     ],
     "language": "python",
     "metadata": {},
     "outputs": [
      {
       "output_type": "pyout",
       "prompt_number": 8,
       "text": [
        "{'COL_NAMES': ['label', 'data'],\n",
        " 'DESCR': 'mldata.org dataset: yahoo-web-directory-topics',\n",
        " 'data': <1106x10629 sparse matrix of type '<type 'numpy.float64'>'\n",
        "\twith 309092 stored elements in Compressed Sparse Row format>,\n",
        " 'target': array([4, 2, 1, ..., 3, 4, 2])}"
       ]
      }
     ],
     "prompt_number": 8
    },
    {
     "cell_type": "code",
     "collapsed": false,
     "input": [
      "# Learn\n",
      "from sklearn.naive_bayes import MultinomialNB\n",
      "clf = MultinomialNB()\n",
      "#clf.fit(X, y)\n",
      "print y.shape\n",
      "print X.shape\n",
      "clf.fit(X, y)\n",
      "clf.predict(X[1, :])"
     ],
     "language": "python",
     "metadata": {},
     "outputs": [
      {
       "output_type": "stream",
       "stream": "stdout",
       "text": [
        "(1106,)\n",
        "(1106, 10629)"
       ]
      },
      {
       "output_type": "pyout",
       "prompt_number": 9,
       "text": [
        "array([2])"
       ]
      }
     ],
     "prompt_number": 9
    },
    {
     "cell_type": "code",
     "collapsed": false,
     "input": [
      "# validation\n",
      "split = y.shape[0] * 7 / 10\n",
      "X_train = X[:split, :]\n",
      "y_train = y[:split]\n",
      "X_validation = X[split:, :]\n",
      "y_validation = y[split:]\n",
      "\n",
      "print X_train.shape\n",
      "print y_train.shape"
     ],
     "language": "python",
     "metadata": {},
     "outputs": [
      {
       "output_type": "stream",
       "stream": "stdout",
       "text": [
        "(774, 10629)\n",
        "(774,)"
       ]
      }
     ],
     "prompt_number": 30
    },
    {
     "cell_type": "code",
     "collapsed": false,
     "input": [
      "from sklearn.naive_bayes import GaussianNB\n",
      "clf2 = GaussianNB()\n",
      "clf2.fit(X_train, y_train)\n",
      "predictions2 = clf2.predict(X_validation)\n",
      "accuracy2 = float((predictions2 == y_validation).sum()) / len(y_validation)\n",
      "print accuracy2"
     ],
     "language": "python",
     "metadata": {},
     "outputs": [
      {
       "output_type": "stream",
       "stream": "stdout",
       "text": [
        "0.222891566265"
       ]
      }
     ],
     "prompt_number": 31
    },
    {
     "cell_type": "code",
     "collapsed": false,
     "input": [
      "from sklearn.naive_bayes import MultinomialNB\n",
      "clf2 = MultinomialNB()\n",
      "clf2.fit(X_train, y_train)\n",
      "predictions2 = clf2.predict(X_validation)\n",
      "accuracy2 = float((predictions2 == y_validation).sum()) / len(y_validation)\n",
      "print accuracy2"
     ],
     "language": "python",
     "metadata": {},
     "outputs": [
      {
       "output_type": "stream",
       "stream": "stdout",
       "text": [
        "0.686746987952"
       ]
      }
     ],
     "prompt_number": 32
    },
    {
     "cell_type": "code",
     "collapsed": false,
     "input": [
      "from sklearn.naive_bayes import BernoulliNB\n",
      "clf2 = BernoulliNB()\n",
      "clf2.fit(X_train, y_train)\n",
      "predictions2 = clf2.predict(X_validation)\n",
      "accuracy2 = float((predictions2 == y_validation).sum()) / len(y_validation)\n",
      "print accuracy2"
     ],
     "language": "python",
     "metadata": {},
     "outputs": [
      {
       "output_type": "stream",
       "stream": "stdout",
       "text": [
        "0.728915662651"
       ]
      }
     ],
     "prompt_number": 33
    }
   ],
   "metadata": {}
  }
 ]
}
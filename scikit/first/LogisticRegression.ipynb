{
 "metadata": {
  "name": "LogisticRegression"
 }, 
 "nbformat": 2, 
 "worksheets": [
  {
   "cells": [
    {
     "cell_type": "code", 
     "collapsed": false, 
     "input": [
      "%pylab inline", 
      "", 
      "# Data Set from ml-class / logistic regression ex", 
      "# Predict labels for numeric values using sclearn linear_model"
     ], 
     "language": "python", 
     "outputs": [
      {
       "output_type": "stream", 
       "stream": "stdout", 
       "text": [
        "", 
        "Welcome to pylab, a matplotlib-based Python environment [backend: module://IPython.zmq.pylab.backend_inline].", 
        "For more information, type 'help(pylab)'."
       ]
      }
     ], 
     "prompt_number": 1
    }, 
    {
     "cell_type": "code", 
     "collapsed": false, 
     "input": [
      "# Plotting", 
      "data = np.loadtxt('data/linear-regression/ex2data1.txt', delimiter=',')", 
      "X = data[:, :2]", 
      "y = data[:, 2]", 
      "", 
      "pylab.figure()", 
      "plot(X[y == 0, 0], X[y == 0, 1], 'ro')", 
      "plot(X[y == 1, 0], X[y == 1, 1], 'go')"
     ], 
     "language": "python", 
     "outputs": [
      {
       "output_type": "pyout", 
       "prompt_number": 51, 
       "text": [
        "[<matplotlib.lines.Line2D at 0x671d190>]"
       ]
      }, 
      {
       "output_type": "display_data", 
       "png": "[encoded data removed]"
      }
     ], 
     "prompt_number": 51
    }, 
    {
     "cell_type": "code", 
     "collapsed": false, 
     "input": [
      "# Load", 
      "from sklearn import linear_model", 
      "lr = linear_model.logistic.LogisticRegression()"
     ], 
     "language": "python", 
     "outputs": [], 
     "prompt_number": 103
    }, 
    {
     "cell_type": "code", 
     "collapsed": false, 
     "input": [
      "# Learn", 
      "lr.fit(X, y)", 
      "float(x.sum()) / y.shape[0]"
     ], 
     "language": "python", 
     "outputs": [
      {
       "output_type": "pyout", 
       "prompt_number": 100, 
       "text": [
        "0.91"
       ]
      }
     ], 
     "prompt_number": 100
    }, 
    {
     "cell_type": "code", 
     "collapsed": false, 
     "input": [
      "# validation", 
      "X_train, y_train = X[:70, :], y[:70]", 
      "X_validation, y_validation = X[70:, :], y[70:]", 
      "lr1.fit(X_train, y_train)", 
      "validation1 = lr1.predict(X_validation) == y_validation", 
      "validation1.sum() / 30.0"
     ], 
     "language": "python", 
     "outputs": [
      {
       "output_type": "pyout", 
       "prompt_number": 107, 
       "text": [
        "0.8666666666666667"
       ]
      }
     ], 
     "prompt_number": 107
    }
   ]
  }
 ]
}
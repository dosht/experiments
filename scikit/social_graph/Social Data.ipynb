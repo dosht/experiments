{
 "metadata": {
  "name": "Social Data"
 }, 
 "nbformat": 2, 
 "worksheets": [
  {
   "cells": [
    {
     "cell_type": "code", 
     "collapsed": false, 
     "input": [
      "%pylab inline"
     ], 
     "language": "python", 
     "outputs": [
      {
       "output_type": "stream", 
       "stream": "stdout", 
       "text": [
        "", 
        "Welcome to pylab, a matplotlib-based Python environment [backend: module://IPython.zmq.pylab.backend_inline].", 
        "For more information, type 'help(pylab)'."
       ]
      }
     ], 
     "prompt_number": 1
    }, 
    {
     "cell_type": "code", 
     "collapsed": false, 
     "input": [
      "np.genfromtxt(\"facebook/0.edges\", delimiter=\" \")"
     ], 
     "language": "python", 
     "outputs": [
      {
       "output_type": "pyout", 
       "prompt_number": 3, 
       "text": [
        "array([[ 236.,  186.],", 
        "       [ 122.,  285.],", 
        "       [  24.,  346.],", 
        "       ..., ", 
        "       [  85.,   75.],", 
        "       [  98.,  332.],", 
        "       [ 291.,  339.]])"
       ]
      }
     ], 
     "prompt_number": 3
    }
   ]
  }
 ]
}